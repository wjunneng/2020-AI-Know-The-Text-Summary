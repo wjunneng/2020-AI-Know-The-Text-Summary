{
 "cells": [
  {
   "cell_type": "code",
   "execution_count": 2,
   "metadata": {
    "pycharm": {
     "is_executing": false
    }
   },
   "outputs": [],
   "source": [
    "import pandas as pd\n",
    "from tqdm import tqdm "
   ]
  },
  {
   "cell_type": "code",
   "execution_count": 13,
   "metadata": {
    "pycharm": {
     "is_executing": false
    }
   },
   "outputs": [
    {
     "name": "stdout",
     "text": [
      "start!\n"
     ],
     "output_type": "stream"
    }
   ],
   "source": [
    "print('start!')\n",
    "train_df = pd.read_csv('/home/wjunneng/Ubuntu/2020-AI-Know-The-Text-Summary/data/input/train.csv')\n",
    "test_df = pd.read_csv('/home/wjunneng/Ubuntu/2020-AI-Know-The-Text-Summary/data/input/test.csv')"
   ]
  },
  {
   "cell_type": "code",
   "execution_count": 7,
   "metadata": {
    "pycharm": {
     "is_executing": false
    }
   },
   "outputs": [
    {
     "data": {
      "text/plain": "                                             article  \\\n0  南方都市报2015-07-30<Paragraph>17:37南都讯<Paragraph>记...   \n1  据湖北省纪委消息：近期，经湖北省委批准，湖北省纪委对鄂州市人大常委会原党组书记、主任涂维发严...   \n2  ［球心］19:54西汉姆联队首发：阿德里安，奥邦纳，雷德，汤姆金斯，克雷斯维尔，奥克斯福德，...   \n3  希腊司法部长尼科斯·帕拉斯基沃普洛斯11日说，他准备签署文件，允许政府没收德国在希腊资产，以...   \n4  中新网11月25日电<Paragraph>据外交部网站消息，2013年11月25日，外交部部...   \n\n                                       summarization  \n0      城市非主干道两侧将临时指定路段时段供食品摊贩经营，黄金地段摆摊需摇号，食品摊贩无需工商登记  \n1       鄂州市人大常委会主任涂维发被双开；经查，其利用职务便利为他人谋利，收受贿赂，涉违法违纪。  \n2           英超首轮：阿森纳主场0-2不敌西汉姆联，切赫登陆阿森纳首秀不顺，城门两次宣告失守  \n3  希腊拟没收境内德国财产，以偿还德国所欠二战赔款；德国称已完成向二战受害国的赔偿事宜，希腊索赔...  \n4                 外交部召见日本驻华大使 就日方无理指责划设东海防空识别区提出严正抗议  ",
      "text/html": "<div>\n<style scoped>\n    .dataframe tbody tr th:only-of-type {\n        vertical-align: middle;\n    }\n\n    .dataframe tbody tr th {\n        vertical-align: top;\n    }\n\n    .dataframe thead th {\n        text-align: right;\n    }\n</style>\n<table border=\"1\" class=\"dataframe\">\n  <thead>\n    <tr style=\"text-align: right;\">\n      <th></th>\n      <th>article</th>\n      <th>summarization</th>\n    </tr>\n  </thead>\n  <tbody>\n    <tr>\n      <td>0</td>\n      <td>南方都市报2015-07-30&lt;Paragraph&gt;17:37南都讯&lt;Paragraph&gt;记...</td>\n      <td>城市非主干道两侧将临时指定路段时段供食品摊贩经营，黄金地段摆摊需摇号，食品摊贩无需工商登记</td>\n    </tr>\n    <tr>\n      <td>1</td>\n      <td>据湖北省纪委消息：近期，经湖北省委批准，湖北省纪委对鄂州市人大常委会原党组书记、主任涂维发严...</td>\n      <td>鄂州市人大常委会主任涂维发被双开；经查，其利用职务便利为他人谋利，收受贿赂，涉违法违纪。</td>\n    </tr>\n    <tr>\n      <td>2</td>\n      <td>［球心］19:54西汉姆联队首发：阿德里安，奥邦纳，雷德，汤姆金斯，克雷斯维尔，奥克斯福德，...</td>\n      <td>英超首轮：阿森纳主场0-2不敌西汉姆联，切赫登陆阿森纳首秀不顺，城门两次宣告失守</td>\n    </tr>\n    <tr>\n      <td>3</td>\n      <td>希腊司法部长尼科斯·帕拉斯基沃普洛斯11日说，他准备签署文件，允许政府没收德国在希腊资产，以...</td>\n      <td>希腊拟没收境内德国财产，以偿还德国所欠二战赔款；德国称已完成向二战受害国的赔偿事宜，希腊索赔...</td>\n    </tr>\n    <tr>\n      <td>4</td>\n      <td>中新网11月25日电&lt;Paragraph&gt;据外交部网站消息，2013年11月25日，外交部部...</td>\n      <td>外交部召见日本驻华大使 就日方无理指责划设东海防空识别区提出严正抗议</td>\n    </tr>\n  </tbody>\n</table>\n</div>"
     },
     "metadata": {},
     "output_type": "execute_result",
     "execution_count": 7
    }
   ],
   "source": [
    "train_df.head()"
   ]
  },
  {
   "cell_type": "code",
   "execution_count": 9,
   "metadata": {
    "pycharm": {
     "is_executing": false
    }
   },
   "outputs": [],
   "source": [
    "from textrank4zh import TextRank4Keyword,TextRank4Sentence"
   ]
  },
  {
   "cell_type": "code",
   "execution_count": 20,
   "metadata": {
    "pycharm": {
     "is_executing": false
    }
   },
   "outputs": [
    {
     "name": "stderr",
     "text": [
      "100%|██████████| 10000/10000 [18:13<00:00,  9.14it/s] \n"
     ],
     "output_type": "stream"
    }
   ],
   "source": [
    "texts = test_df['article'].values\n",
    "res = []\n",
    "def deal_text(text: str):\n",
    "    \"\"\"\n",
    "    处理文本\n",
    "    \"\"\"\n",
    "    text = text.replace('<Paragraph>', ' ')\n",
    "\n",
    "    for special_char in ['■', '●', '\\t', '\\n']:\n",
    "        text = text.replace(special_char, ' ')\n",
    "\n",
    "    for (ch_char, en_char) in zip(['０', '１', '２', '３', '４', '５', '６', '７', '８', '９'],\n",
    "                                  ['0', '1', '2', '3', '4', '5', '6', '7', '8', '9']):\n",
    "        text = text.replace(ch_char, en_char)\n",
    "\n",
    "    return text\n",
    "\n",
    "for text in tqdm(texts):\n",
    "    text = deal_text(text)\n",
    "    tr4s = TextRank4Sentence()\n",
    "    tr4s.analyze(text=text, lower=True, source = 'no_stop_words')\n",
    "    try:\n",
    "        key_sentences = tr4s.get_key_sentences(num=1, sentence_min_len=30)        \n",
    "        res.append(key_sentences[0]['sentence'])\n",
    "    except:\n",
    "        key_sentences = tr4s.get_key_sentences(num=1, sentence_min_len=20)        \n",
    "        res.append(key_sentences[0]['sentence'])"
   ]
  },
  {
   "cell_type": "code",
   "execution_count": 21,
   "metadata": {
    "pycharm": {
     "is_executing": false
    }
   },
   "outputs": [
    {
     "data": {
      "text/plain": "                                                 sum\n0  发布日期：2015-05-20 08:37:00龙岩市气象台5月20日8时37分变更发布暴雨...\n1  妻子徐某站在旁边，不劝说丈夫也就算了，还将对方赔偿的六百元现金拿出来甩给女服务员母亲，“这钱...\n2  阿雷西博天文台表示，大部分小行星是众多较小的岩石，受重力影响松散地聚在一起，而UW-158形...\n3  汝州市小屯镇朝川村11岁男孩儿洋洋（化名），因喉部肿痛在学校打电话给妈妈让带去看医生，洋洋被...\n4      图为5月12日，上海，黄川即将被推入手术室,他安慰妻子,“我进去睡一觉就出来了,别担心”。",
      "text/html": "<div>\n<style scoped>\n    .dataframe tbody tr th:only-of-type {\n        vertical-align: middle;\n    }\n\n    .dataframe tbody tr th {\n        vertical-align: top;\n    }\n\n    .dataframe thead th {\n        text-align: right;\n    }\n</style>\n<table border=\"1\" class=\"dataframe\">\n  <thead>\n    <tr style=\"text-align: right;\">\n      <th></th>\n      <th>sum</th>\n    </tr>\n  </thead>\n  <tbody>\n    <tr>\n      <td>0</td>\n      <td>发布日期：2015-05-20 08:37:00龙岩市气象台5月20日8时37分变更发布暴雨...</td>\n    </tr>\n    <tr>\n      <td>1</td>\n      <td>妻子徐某站在旁边，不劝说丈夫也就算了，还将对方赔偿的六百元现金拿出来甩给女服务员母亲，“这钱...</td>\n    </tr>\n    <tr>\n      <td>2</td>\n      <td>阿雷西博天文台表示，大部分小行星是众多较小的岩石，受重力影响松散地聚在一起，而UW-158形...</td>\n    </tr>\n    <tr>\n      <td>3</td>\n      <td>汝州市小屯镇朝川村11岁男孩儿洋洋（化名），因喉部肿痛在学校打电话给妈妈让带去看医生，洋洋被...</td>\n    </tr>\n    <tr>\n      <td>4</td>\n      <td>图为5月12日，上海，黄川即将被推入手术室,他安慰妻子,“我进去睡一觉就出来了,别担心”。</td>\n    </tr>\n  </tbody>\n</table>\n</div>"
     },
     "metadata": {},
     "output_type": "execute_result",
     "execution_count": 21
    }
   ],
   "source": [
    "sub = pd.DataFrame()\n",
    "sub['sum'] = res\n",
    "sub['sum'] = sub['sum'].apply(lambda a: a+'。')\n",
    "sub.head()"
   ]
  },
  {
   "cell_type": "code",
   "execution_count": 22,
   "metadata": {
    "pycharm": {
     "is_executing": false
    }
   },
   "outputs": [],
   "source": [
    "sub.to_csv('/home/wjunneng/Ubuntu/2020-AI-Know-The-Text-Summary/data/output/sub.csv',header=None)"
   ]
  },
  {
   "cell_type": "code",
   "execution_count": null,
   "metadata": {},
   "outputs": [],
   "source": []
  }
 ],
 "metadata": {
  "kernelspec": {
   "name": "pycharm-378471cb",
   "language": "python",
   "display_name": "PyCharm (2020-AI-Know-The-Text-Summary)"
  },
  "language_info": {
   "codemirror_mode": {
    "name": "ipython",
    "version": 3
   },
   "file_extension": ".py",
   "mimetype": "text/x-python",
   "name": "python",
   "nbconvert_exporter": "python",
   "pygments_lexer": "ipython3",
   "version": "3.6.3"
  },
  "pycharm": {
   "stem_cell": {
    "cell_type": "raw",
    "source": [],
    "metadata": {
     "collapsed": false
    }
   }
  }
 },
 "nbformat": 4,
 "nbformat_minor": 2
}